{
 "cells": [
  {
   "cell_type": "code",
   "execution_count": 430,
   "metadata": {},
   "outputs": [],
   "source": [
    "import sqlite3\n",
    "\n",
    "# Connect to the database\n",
    "conn = sqlite3.connect(\"student_database.db\")\n",
    "cursor = conn.cursor()\n",
    "\n",
    "# Create the students table if it doesn't exist\n",
    "cursor.execute(\"\"\"\n",
    "    CREATE TABLE IF NOT EXISTS students (\n",
    "        id INTEGER PRIMARY KEY,\n",
    "        name TEXT,\n",
    "        university TEXT\n",
    "    )\n",
    "\"\"\")\n",
    "\n",
    "# Insert the data\n",
    "cursor.execute(\"\"\"\n",
    "    INSERT INTO students (id, name, university) VALUES\n",
    "    (1, 'John Doe', 'Harvard University'),\n",
    "    (2, 'Jane Doe', 'Stanford University'),\n",
    "    (3, 'Bob Smith', 'MIT'),\n",
    "    (4, 'Alice Johnson', 'Harvard University'),\n",
    "    (5, 'Mike Brown', 'Stanford University'),\n",
    "    (6, 'Emily Davis', 'MIT'),\n",
    "    (7, 'Tom Harris', 'Harvard University'),\n",
    "    (8, 'Sophia Lee', 'Stanford University'),\n",
    "    (9, 'Jackson White', 'MIT'),\n",
    "    (10, 'Olivia Martin', 'Harvard University')\n",
    "\"\"\")\n",
    "\n",
    "# Commit the changes and close the connection\n",
    "conn.commit()\n",
    "conn.close()"
   ]
  },
  {
   "cell_type": "code",
   "execution_count": 431,
   "metadata": {},
   "outputs": [],
   "source": [
    "import os\n",
    "import getpass\n",
    "from typing import Annotated\n",
    "from typing_extensions import TypedDict\n",
    "from langchain_community.tools import WikipediaQueryRun\n",
    "from langchain_community.utilities import WikipediaAPIWrapper\n",
    "from langchain_groq import ChatGroq\n",
    "from langchain.document_loaders import PyMuPDFLoader\n",
    "from langchain.text_splitter import RecursiveCharacterTextSplitter\n",
    "from langchain.docstore.document import Document\n",
    "from langchain.embeddings import HuggingFaceEmbeddings\n",
    "from langchain.vectorstores import Chroma\n",
    "from langchain.chains import RetrievalQA\n",
    "from langgraph.graph import StateGraph, START, END\n",
    "from langgraph.graph.message import add_messages\n",
    "from langgraph.prebuilt import ToolNode\n",
    "import os\n",
    "from langchain.document_loaders import PyMuPDFLoader\n",
    "from langchain.text_splitter import RecursiveCharacterTextSplitter\n",
    "from langchain.docstore.document import Document\n",
    "from langchain.embeddings import HuggingFaceEmbeddings\n",
    "from langchain.vectorstores import Chroma\n",
    "from langchain_community.llms import Ollama\n",
    "from langchain.chains import RetrievalQA\n",
    "from collections import defaultdict"
   ]
  },
  {
   "cell_type": "code",
   "execution_count": 432,
   "metadata": {},
   "outputs": [],
   "source": [
    "os.environ[\"LANGCHAIN_TRACING_V2\"] = \"true\"\n",
    "os.environ[\"LANGCHAIN_ENDPOINT\"] = \"https://api.smith.langchain.com\"\n",
    "os.environ[\"LANGCHAIN_API_KEY\"] = \"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\"\n",
    "os.environ[\"LANGCHAIN_PROJECT\"] = \"pr-tart-safeguard-1\"\n",
    "os.environ[\"GROQ_API_KEY\"] = getpass.getpass(\"Enter your Groq API key: \")"
   ]
  },
  {
   "cell_type": "code",
   "execution_count": 433,
   "metadata": {},
   "outputs": [],
   "source": [
    "wikipedia = WikipediaQueryRun(api_wrapper=WikipediaAPIWrapper())\n"
   ]
  },
  {
   "cell_type": "code",
   "execution_count": 434,
   "metadata": {},
   "outputs": [],
   "source": [
    "llm = ChatGroq(\n",
    "    model=\"mixtral-8x7b-32768\",\n",
    "    temperature=0,\n",
    "    max_tokens=None,\n",
    "    timeout=None,\n",
    "    max_retries=2,\n",
    ")"
   ]
  },
  {
   "cell_type": "code",
   "execution_count": 435,
   "metadata": {},
   "outputs": [],
   "source": [
    "class State(TypedDict):\n",
    "    messages: Annotated[list, add_messages]\n",
    "    route: str\n",
    "    explanation: str\n",
    "    context: str\n",
    "    chat_history: list\n",
    "    sql_query: str  "
   ]
  },
  {
   "cell_type": "code",
   "execution_count": 436,
   "metadata": {},
   "outputs": [],
   "source": [
    "graph_builder = StateGraph(State)\n"
   ]
  },
  {
   "cell_type": "code",
   "execution_count": 437,
   "metadata": {},
   "outputs": [],
   "source": [
    "def extract_sql_query(sql_query_content):\n",
    "    start_index = sql_query_content.find(\"SELECT\")\n",
    "    end_index = sql_query_content.find(\";\")\n",
    "    if start_index != -1 and end_index != -1:\n",
    "        sql_query = sql_query_content[start_index:end_index + 1]\n",
    "        return sql_query.strip()\n",
    "    else:\n",
    "        lines = sql_query_content.splitlines()\n",
    "        sql_query = \"\"\n",
    "        for line in lines:\n",
    "            if line.strip().startswith(\"SELECT\"):\n",
    "                sql_query += line.strip() + \" \"\n",
    "            elif \";\" in line:\n",
    "                sql_query += line.strip()\n",
    "                break\n",
    "            else:\n",
    "                sql_query += line.strip() + \" \"\n",
    "        return sql_query.strip()\n"
   ]
  },
  {
   "cell_type": "code",
   "execution_count": 438,
   "metadata": {},
   "outputs": [],
   "source": [
    "import re"
   ]
  },
  {
   "cell_type": "code",
   "execution_count": 439,
   "metadata": {},
   "outputs": [],
   "source": [
    "def router(state: State) -> dict:\n",
    "    latest_message = state[\"messages\"][-1]\n",
    "    user_query = latest_message.content.lower()\n",
    "\n",
    "    decision_prompt = (\n",
    "        \"You are a decision-making assistant responsible for routing user queries to the appropriate processing system.\\n\\n\"\n",
    "        \"Here is the user's query:\\n\\n\"\n",
    "        f\"\\\"{user_query}\\\"\\n\\n\"\n",
    "        \"Please analyze the query and decide the most suitable category for processing.\\n\\n\"\n",
    "        \"Based on the content of the query, choose one of the following categories:\\n\"\n",
    "        \"1. **SQL**: If the query is related to the student table with attributes like id, name, university . my schema CREATE TABLE IF NOT EXISTS students id  INTEGER PRIMARY KEY,name TEXT,university TEXT as a sample some queries I share:SELECT * FROM students;SELECT * FROM students WHERE id = [id];SELECT * FROM students WHERE name = '[name]';SELECT * FROM students WHERE university = '[university]';SELECT * FROM students WHERE major = '[major]';SELECT name, age FROM students WHERE university = '[university]';SELECT university, AVG(age) as avg_age FROM students GROUP BY university;SELECT university, COUNT(*) as num_students FROM students GROUP BY university;\"\n",
    "        \"2. **Vector**: If the query is related to RAG Retrieval-Augmented Generation or Generative Ai or NLP Tasks.\\n\\n\"\n",
    "        \"3. **Wiki**: If the query is not match above context then answer wiki.\\n\"\n",
    "        \"give one word strictly not give anve answer in more than onw word\"\n",
    "    )\n",
    "\n",
    "    decision_response = llm.invoke(decision_prompt)\n",
    "    decision_response_text = decision_response.content.strip().lower()\n",
    "    print(\"----------------------decision : \",decision_response_text)\n",
    "    if \"sql\" in decision_response_text:\n",
    "        while True:\n",
    "            sql_query_prompt = (\n",
    "                \"Generate the corresponding SQL query based on the user's input.\\n\\n\"\n",
    "                f\"Query: {user_query}\\n\\n\"\n",
    "                \"Assuming the query is related to the students table with attributes like id, name, university.\\n\"\n",
    "                \"Please generate the SQL query in the following format:\\n\\n\"\n",
    "                \"SELECT [columns] FROM students WHERE [conditions]\"\n",
    "            )\n",
    "            sql_query_response = llm.invoke(sql_query_prompt)\n",
    "            sql_query_content = sql_query_response.content.strip()\n",
    "            sql_query_content = sql_query_content.replace(\"```\", \"\")\n",
    "            lines = sql_query_content.splitlines()\n",
    "            sql_query = \"\"\n",
    "            for line in lines:\n",
    "                if line.strip().startswith(\"SELECT\"):\n",
    "                        sql_query += line.strip() + \" \"\n",
    "                elif \";\" in line:\n",
    "                        sql_query += line.strip()\n",
    "                        break\n",
    "                else:\n",
    "                        sql_query += line.strip() + \" \"\n",
    "            if sql_query:\n",
    "                state[\"sql_query\"] = sql_query\n",
    "                return {\"next_node\": \"sql_search\", \"route\": \"sql_search\", \"sql_query\": state}\n",
    "    elif \"wiki\" in decision_response_text:\n",
    "        return {\"next_node\": \"wiki_search\", \"route\": \"wiki_search\"}\n",
    "    else:\n",
    "        return {\"next_node\": \"vector_search\", \"route\": \"vector_search\"}"
   ]
  },
  {
   "cell_type": "code",
   "execution_count": 440,
   "metadata": {},
   "outputs": [],
   "source": [
    "pdf_folder_path = './data/'\n",
    "all_text = \"\""
   ]
  },
  {
   "cell_type": "code",
   "execution_count": 441,
   "metadata": {},
   "outputs": [],
   "source": [
    "for filename in os.listdir(pdf_folder_path):\n",
    "    if filename.endswith('.pdf'):\n",
    "        pdf_path = os.path.join(pdf_folder_path, filename)\n",
    "        loader = PyMuPDFLoader(pdf_path)\n",
    "        docs = loader.load()\n",
    "        for doc in docs:\n",
    "            all_text += doc.page_content + \"\\n\" "
   ]
  },
  {
   "cell_type": "code",
   "execution_count": 442,
   "metadata": {},
   "outputs": [
    {
     "name": "stderr",
     "output_type": "stream",
     "text": [
      "c:\\Users\\musta\\AppData\\Local\\Programs\\Python\\Python311\\Lib\\site-packages\\huggingface_hub\\file_download.py:1132: FutureWarning: `resume_download` is deprecated and will be removed in version 1.0.0. Downloads always resume when possible. If you want to force a new download, use `force_download=True`.\n",
      "  warnings.warn(\n"
     ]
    }
   ],
   "source": [
    "text_splitter = RecursiveCharacterTextSplitter(chunk_size=500, chunk_overlap=200)\n",
    "chunks = text_splitter.split_text(all_text)\n",
    "docs = [Document(page_content=chunk) for chunk in chunks]\n",
    "embedding = HuggingFaceEmbeddings(model_name=\"sentence-transformers/all-MiniLM-L6-v2\")\n",
    "db2 = Chroma.from_documents(docs, embedding=embedding, persist_directory=\"./chroma_db/RRF\")\n",
    "db3 = Chroma(persist_directory=\"./chroma_db/RRF\", embedding_function=embedding)\n",
    "retriever = db3.as_retriever(search_kwargs={\"k\": 3})"
   ]
  },
  {
   "cell_type": "code",
   "execution_count": 443,
   "metadata": {},
   "outputs": [],
   "source": [
    "def vector_search(state: State) -> dict:\n",
    "    query = state[\"messages\"][-1].content\n",
    "    results = retriever.invoke(query)\n",
    "    context = \" \".join([doc.page_content for doc in results])\n",
    "    return {\"messages\": [(\"ai\", \"\")], \"route\": state[\"route\"], \"context\": context}\n"
   ]
  },
  {
   "cell_type": "code",
   "execution_count": 444,
   "metadata": {},
   "outputs": [],
   "source": [
    "def wiki_search(state: State) -> dict:\n",
    "    query = state[\"messages\"][-1].content\n",
    "    results = wikipedia.run(query)\n",
    "    context = \" \".join([result for result in results])\n",
    "    return {\"messages\": [(\"ai\", \"\")], \"route\": state[\"route\"], \"context\": context}\n"
   ]
  },
  {
   "cell_type": "code",
   "execution_count": 445,
   "metadata": {},
   "outputs": [],
   "source": [
    "def process_with_llm(state: State) -> dict:\n",
    "    query = state[\"messages\"][-2].content\n",
    "    context = state[\"context\"]\n",
    "    chat_history = state.get(\"chat_history\", []) + [(\"user\", query)]\n",
    "    prompt = f\"\"\"You are an expert assistant for answering questions accurately and in detail. \n",
    "    You must base your response strictly on the provided context and chat history. \n",
    "    If the context and chat history do not contain enough information to answer the question, respond with 'I don't know.' \n",
    "    Avoid using any information not present in the context and chat history but use related information from your knowledge. \n",
    "    Ensure your answer is clear and directly addresses the question but give answer in detail.\n",
    "    Chat History:\n",
    "    {chat_history}\n",
    "    Context:(Context may be result from sql students table which has attributes id,name,university I give you sql query data from table explain in enhaced way like summarization in detail   and may be context from multiple doxcuments related to query and may be its wikipedia docuements)\n",
    "    {context}\n",
    "    Question: {query}\n",
    "    Answer:\"\"\"\n",
    "    response = llm.invoke(prompt)\n",
    "    chat_history = state.get(\"chat_history\", []) + [(\"user\", query), (\"ai\", str(response))]\n",
    "    return {\"messages\": [(\"ai\", str(response))], \"route\": state[\"route\"], \"explanation\": state[\"explanation\"], \"context\": context, \"chat_history\": chat_history}\n"
   ]
  },
  {
   "cell_type": "code",
   "execution_count": 446,
   "metadata": {},
   "outputs": [],
   "source": [
    "import sqlite3\n"
   ]
  },
  {
   "cell_type": "code",
   "execution_count": 447,
   "metadata": {},
   "outputs": [],
   "source": [
    "def sql_node(state: State) -> dict:\n",
    "    sql_query_dict = state.get(\"sql_query\", \"\")\n",
    "    \n",
    "    if isinstance(sql_query_dict, dict) and 'sql_query' in sql_query_dict:\n",
    "        sql_query = sql_query_dict['sql_query']\n",
    "        sql_query = sql_query.split('```')[0].strip()\n",
    "        sql_query = sql_query.replace(\"\\\\\", \"\")  \n",
    "        sql_query = sql_query.replace('\"', '')  \n",
    "\n",
    "        query_start = sql_query.find(\"SELECT\")\n",
    "        query_end = sql_query.find(\";\")\n",
    "        sql_query = sql_query[query_start:query_end]\n",
    "    \n",
    "    if sql_query:\n",
    "        conn = sqlite3.connect(\"student_database.db\")\n",
    "        cursor = conn.cursor()\n",
    "        cursor.execute(sql_query)\n",
    "        results = cursor.fetchall()\n",
    "        conn.close()\n",
    "        \n",
    "        names = [row[0] for row in results]  \n",
    "        context = \"\\n\".join([\", \".join(map(str, row)) for row in results])\n",
    "        return {\"messages\": [(\"ai\", context)], \"route\": state[\"route\"], \"context\": context}\n",
    "    else:\n",
    "        return {\"messages\": [(\"ai\", \"No SQL query provided\")], \"route\": state[\"route\"], \"context\": state[\"context\"]}\n"
   ]
  },
  {
   "cell_type": "code",
   "execution_count": 448,
   "metadata": {},
   "outputs": [],
   "source": [
    "graph_builder.add_node(\"router\", router)\n",
    "graph_builder.add_node(\"vector_search\", vector_search)\n",
    "graph_builder.add_node(\"wiki_search\", wiki_search)\n",
    "graph_builder.add_node(\"process_with_llm\", process_with_llm)\n",
    "graph_builder.add_node(\"sql_search\", sql_node)\n"
   ]
  },
  {
   "cell_type": "code",
   "execution_count": 449,
   "metadata": {},
   "outputs": [],
   "source": [
    "def routing_condition(state: State) -> str:\n",
    "    if state[\"route\"] == \"vector_search\":\n",
    "        return \"vector_search\"\n",
    "    elif state[\"route\"] == \"wiki_search\":\n",
    "        return \"wiki_search\"\n",
    "    elif state[\"route\"] == \"sql_search\":\n",
    "        return \"sql_search\"\n",
    "    else:\n",
    "        return \"vector_search\""
   ]
  },
  {
   "cell_type": "code",
   "execution_count": 450,
   "metadata": {},
   "outputs": [],
   "source": [
    "graph_builder.add_edge(START, \"router\")\n",
    "graph_builder.add_conditional_edges(\n",
    "    \"router\",\n",
    "    routing_condition,\n",
    ")\n",
    "\n",
    "graph_builder.add_edge(\"sql_search\", \"process_with_llm\")\n",
    "graph_builder.add_edge(\"vector_search\", \"process_with_llm\")\n",
    "graph_builder.add_edge(\"wiki_search\", \"process_with_llm\")\n",
    "graph_builder.add_edge(\"process_with_llm\", END)\n"
   ]
  },
  {
   "cell_type": "code",
   "execution_count": 451,
   "metadata": {},
   "outputs": [],
   "source": [
    "from langgraph.checkpoint.memory import MemorySaver\n"
   ]
  },
  {
   "cell_type": "code",
   "execution_count": 452,
   "metadata": {},
   "outputs": [],
   "source": [
    "memory = MemorySaver()\n",
    "graph = graph_builder.compile(checkpointer=memory)"
   ]
  },
  {
   "cell_type": "code",
   "execution_count": 453,
   "metadata": {},
   "outputs": [
    {
     "data": {
      "image/jpeg": "[encoded data removed]",
      "text/plain": [
       "<IPython.core.display.Image object>"
      ]
     },
     "metadata": {},
     "output_type": "display_data"
    }
   ],
   "source": [
    "from IPython.display import Image, display\n",
    "try:\n",
    "    display(Image(graph.get_graph().draw_mermaid_png()))\n",
    "except Exception:\n",
    "    pass"
   ]
  },
  {
   "cell_type": "code",
   "execution_count": 454,
   "metadata": {},
   "outputs": [
    {
     "name": "stdout",
     "output_type": "stream",
     "text": [
      "----------------------decision :  sql\n",
      "Last message: content=\"content='Based on the information provided in the context, the universities associated with the student data are Harvard University, Stanford University, and MIT. These universities are repeated several times in the context, indicating that there may be multiple students attending each of these institutions. However, the exact number of students at each university is not provided in the context.' response_metadata={'token_usage': {'completion_tokens': 67, 'prompt_tokens': 246, 'total_tokens': 313, 'completion_time': 0.107083209, 'prompt_time': 0.042371391, 'queue_time': 0.0013320689999999982, 'total_time': 0.1494546}, 'model_name': 'mixtral-8x7b-32768', 'system_fingerprint': 'fp_c5f20b5bb1', 'finish_reason': 'stop', 'logprobs': None} id='run-a41fb36e-28ed-4eb8-829d-e5073c28ccdb-0' usage_metadata={'input_tokens': 246, 'output_tokens': 67, 'total_tokens': 313}\" id='23938bd6-e215-4fee-99a2-d09b9cb3dada'\n"
     ]
    }
   ],
   "source": [
    "user_input = \"give all universities of student data?\"\n",
    "config = {\"configurable\": {\"thread_id\": \"23\"}}\n",
    "initial_state = {\n",
    "    \"messages\": [{\"role\": \"user\", \"content\": user_input}],\n",
    "    \"route\": \"\",\n",
    "    \"explanation\": \"\",\n",
    "    \"context\": \"\",\n",
    "    \"chat_history\": []\n",
    "}\n",
    "events = graph.stream(initial_state, config, stream_mode=\"values\")\n",
    "for event in events:\n",
    "    pass\n",
    "\n",
    "print(f\"Last message: {event['messages'][-1]}\")"
   ]
  },
  {
   "cell_type": "code",
   "execution_count": 455,
   "metadata": {},
   "outputs": [
    {
     "name": "stdout",
     "output_type": "stream",
     "text": [
      "----------------------decision :  sql\n",
      "Last message: content=\"content='Based on the information provided in the context, the students who study in Harvard University are John Doe, Alice Johnson, Tom Harris, and Olivia Martin.' response_metadata={'token_usage': {'completion_tokens': 33, 'prompt_tokens': 236, 'total_tokens': 269, 'completion_time': 0.05211887, 'prompt_time': 0.015427588, 'queue_time': 0.0007960749999999985, 'total_time': 0.067546458}, 'model_name': 'mixtral-8x7b-32768', 'system_fingerprint': 'fp_c5f20b5bb1', 'finish_reason': 'stop', 'logprobs': None} id='run-28c06f3b-606a-4181-ac25-4f8287e91dfa-0' usage_metadata={'input_tokens': 236, 'output_tokens': 33, 'total_tokens': 269}\" id='35e21961-689b-4dd2-85ad-6267545cfee8'\n"
     ]
    }
   ],
   "source": [
    "user_input = \"Give names of student  who study in harvard university?\"\n",
    "config = {\"configurable\": {\"thread_id\": \"2\"}}\n",
    "initial_state = {\n",
    "    \"messages\": [{\"role\": \"user\", \"content\": user_input}],\n",
    "    \"route\": \"\",\n",
    "    \"explanation\": \"\",\n",
    "    \"context\": \"\",\n",
    "    \"chat_history\": []\n",
    "}\n",
    "events = graph.stream(initial_state, config, stream_mode=\"values\")\n",
    "for event in events:\n",
    "    pass\n",
    "\n",
    "print(f\"Last message: {event['messages'][-1]}\")"
   ]
  },
  {
   "cell_type": "code",
   "execution_count": 456,
   "metadata": {},
   "outputs": [
    {
     "name": "stdout",
     "output_type": "stream",
     "text": [
      "----------------------decision :  vector\n",
      "Last message: content='content=\\'RAG, which stands for Retrieval-Augmented Generation, is a model used in general artificial intelligence. It combines the generation flexibility of \"closed-book\" (parametric only) approaches with the performance of \"open-book\" retrieval-based approaches. This model enjoys strong results without the need for expensive, specialized \"salient span masking\" pre-training, unlike other models such as REALM and T5+SSM.\\\\n\\\\nRAG\\\\\\'s retriever is initialized using DPR\\\\\\'s retriever, which uses retrieval supervision on Natural Questions and TriviaQA. This means that RAG is trained to retrieve relevant information from a large dataset, similar to how a student might use a textbook to find answers to questions.\\\\n\\\\nThe RAG model contains trainable parameters for the BERT-base query and document encoder of DPR, with 110M parameters each, and 406M trainable parameters from BART-large. This makes a total of 626M trainable parameters. It\\\\\\'s worth noting that while the document encoder of DPR has parameters, they are not trained in the RAG model.\\\\n\\\\nIn summary, RAG is a retrieval-augmented generation model that combines the strengths of \"closed-book\" and \"open-book\" approaches, without the need for specialized pre-training. It\\\\\\'s retriever is initialized using DPR\\\\\\'s retriever, which uses retrieval supervision on Natural Questions and TriviaQA, and it contains a large number of trainable parameters.\\' response_metadata={\\'token_usage\\': {\\'completion_tokens\\': 344, \\'prompt_tokens\\': 579, \\'total_tokens\\': 923, \\'completion_time\\': 0.556066035, \\'prompt_time\\': 0.029615714, \\'queue_time\\': 0.0009936519999999976, \\'total_time\\': 0.585681749}, \\'model_name\\': \\'mixtral-8x7b-32768\\', \\'system_fingerprint\\': \\'fp_c5f20b5bb1\\', \\'finish_reason\\': \\'stop\\', \\'logprobs\\': None} id=\\'run-740f2bc2-ac1e-4e0d-9519-1e0069f9a22c-0\\' usage_metadata={\\'input_tokens\\': 579, \\'output_tokens\\': 344, \\'total_tokens\\': 923}' id='efe295dc-b322-442a-a1ce-725de4a49dbd'\n"
     ]
    }
   ],
   "source": [
    "user_input = \"What is RAG in gen ai?\"\n",
    "config = {\"configurable\": {\"thread_id\": \"23\"}}\n",
    "initial_state = {\n",
    "    \"messages\": [{\"role\": \"user\", \"content\": user_input}],\n",
    "    \"route\": \"\",\n",
    "    \"explanation\": \"\",\n",
    "    \"context\": \"\",\n",
    "    \"chat_history\": []\n",
    "}\n",
    "events = graph.stream(initial_state, config, stream_mode=\"values\")\n",
    "for event in events:\n",
    "    pass\n",
    "\n",
    "print(f\"Last message: {event['messages'][-1]}\")"
   ]
  },
  {
   "cell_type": "code",
   "execution_count": 457,
   "metadata": {},
   "outputs": [
    {
     "name": "stdout",
     "output_type": "stream",
     "text": [
      "----------------------decision :  wiki\n",
      "Last message: content='content=\\'Henry David Jaglom is an English-born American actor, film director, and playwright. He was born in January 1938. This information is from the page \"Henry David Jaglom\" that was provided in the context.\\' response_metadata={\\'token_usage\\': {\\'completion_tokens\\': 53, \\'prompt_tokens\\': 3099, \\'total_tokens\\': 3152, \\'completion_time\\': 0.084509214, \\'prompt_time\\': 0.15904762, \\'queue_time\\': 0.0014864739999999876, \\'total_time\\': 0.243556834}, \\'model_name\\': \\'mixtral-8x7b-32768\\', \\'system_fingerprint\\': \\'fp_c5f20b5bb1\\', \\'finish_reason\\': \\'stop\\', \\'logprobs\\': None} id=\\'run-52c10112-8211-46ec-a9a9-3b4bd65ae32d-0\\' usage_metadata={\\'input_tokens\\': 3099, \\'output_tokens\\': 53, \\'total_tokens\\': 3152}' id='cda494f1-f7b7-4811-b219-914378b0a115'\n"
     ]
    }
   ],
   "source": [
    "user_input = \"who is henry?\"\n",
    "config = {\"configurable\": {\"thread_id\": \"23\"}}\n",
    "initial_state = {\n",
    "    \"messages\": [{\"role\": \"user\", \"content\": user_input}],\n",
    "    \"route\": \"\",\n",
    "    \"explanation\": \"\",\n",
    "    \"context\": \"\",\n",
    "    \"chat_history\": []\n",
    "}\n",
    "events = graph.stream(initial_state, config, stream_mode=\"values\")\n",
    "for event in events:\n",
    "    pass\n",
    "\n",
    "print(f\"Last message: {event['messages'][-1]}\")"
   ]
  },
  {
   "cell_type": "code",
   "execution_count": 459,
   "metadata": {},
   "outputs": [
    {
     "name": "stdout",
     "output_type": "stream",
     "text": [
      "----------------------decision :  the most suitable category for processing the user's query \"give all universities in which student study?\" is **sql**. this query is related to retrieving information from a student table with an attribute like university.\n",
      "Last message: content=\"content='The universities in which students study, based on the information provided in the context, are Harvard University, Stanford University, and MIT (Massachusetts Institute of Technology). These three universities are well-known and highly respected institutions of higher learning, located in Cambridge, Massachusetts (Harvard), Stanford, California (Stanford), and Cambridge, Massachusetts (MIT), respectively. Each university offers a wide range of undergraduate and graduate programs across various fields of study.' response_metadata={'token_usage': {'completion_tokens': 92, 'prompt_tokens': 222, 'total_tokens': 314, 'completion_time': 0.147312332, 'prompt_time': 0.013171244, 'queue_time': 0.000687624999999999, 'total_time': 0.160483576}, 'model_name': 'mixtral-8x7b-32768', 'system_fingerprint': 'fp_c5f20b5bb1', 'finish_reason': 'stop', 'logprobs': None} id='run-db2d9b14-bdda-4457-af22-acca33ea1be8-0' usage_metadata={'input_tokens': 222, 'output_tokens': 92, 'total_tokens': 314}\" id='1a83235c-8696-4473-84c3-aa2c3e56b054'\n"
     ]
    }
   ],
   "source": [
    "user_input = \"give all universities in which student study?\"\n",
    "config = {\"configurable\": {\"thread_id\": \"23\"}}\n",
    "initial_state = {\n",
    "    \"messages\": [{\"role\": \"user\", \"content\": user_input}],\n",
    "    \"route\": \"\",\n",
    "    \"explanation\": \"\",\n",
    "    \"context\": \"\",\n",
    "    \"chat_history\": []\n",
    "}\n",
    "events = graph.stream(initial_state, config, stream_mode=\"values\")\n",
    "for event in events:\n",
    "    pass\n",
    "\n",
    "print(f\"Last message: {event['messages'][-1]}\")"
   ]
  },
  {
   "cell_type": "code",
   "execution_count": null,
   "metadata": {},
   "outputs": [],
   "source": []
  }
 ],
 "metadata": {
  "kernelspec": {
   "display_name": "Python 3",
   "language": "python",
   "name": "python3"
  },
  "language_info": {
   "codemirror_mode": {
    "name": "ipython",
    "version": 3
   },
   "file_extension": ".py",
   "mimetype": "text/x-python",
   "name": "python",
   "nbconvert_exporter": "python",
   "pygments_lexer": "ipython3",
   "version": "3.11.3"
  }
 },
 "nbformat": 4,
 "nbformat_minor": 2
}
